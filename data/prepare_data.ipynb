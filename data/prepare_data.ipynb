{
 "cells": [
  {
   "cell_type": "code",
   "execution_count": 1,
   "metadata": {},
   "outputs": [],
   "source": [
    "# import tsv file and convert to json\n",
    "import csv\n",
    "import json"
   ]
  },
  {
   "cell_type": "code",
   "execution_count": 22,
   "metadata": {},
   "outputs": [],
   "source": [
    "'''\n",
    "Convert tsv file to json file for react app\n",
    "'''\n",
    "\n",
    "tsv_file = \"three_labels/majority/3/52568_104.tsv\"\n",
    "json_file = tsv_file.replace('.tsv', '.json')\n",
    "\n",
    "with open(tsv_file) as tsvfile:\n",
    "    reader = csv.DictReader(tsvfile, dialect='excel-tab')\n",
    "    rows = list(reader)\n",
    "\n",
    "# the column names messed up in the tsv, we need to shift everything over by one \n",
    "column_names = list(rows[0].keys())\n",
    "\n",
    "corrected_rows = []\n",
    "for row in rows:\n",
    "    corrected_row = {}\n",
    "    for i in range(len(column_names)-1):\n",
    "        corrected_row[column_names[i]] = row[column_names[i+1]]\n",
    "    corrected_rows.append(corrected_row)\n",
    "\n",
    "\n",
    "# save correct rows to json\n",
    "with open(json_file, 'w') as jsonfile:\n",
    "    json.dump(corrected_rows, jsonfile, indent=4)\n",
    "\n",
    "\n",
    "\n",
    "# with open(json_file, 'w') as jsonfile:\n",
    "#     json.dump(rows, jsonfile, indent=4)"
   ]
  },
  {
   "cell_type": "code",
   "execution_count": 28,
   "metadata": {},
   "outputs": [],
   "source": [
    "'''\n",
    "Convert summary csv file to json file for react app\n",
    "'''\n",
    "\n",
    "csv_file = \"timeline_summarization_orders.csv\"\n",
    "json_file = csv_file.replace('.csv', '.json')\n",
    "\n",
    "with open(csv_file) as csvfile:\n",
    "    reader = csv.DictReader(csvfile)\n",
    "    rows = list(reader)\n",
    "\n",
    "# organise rows as dictionary where key is timeline id \n",
    "\n",
    "timeline_dict = {}\n",
    "for row in rows:\n",
    "    timeline_dict[row['tlid']] = row\n",
    "\n",
    "\n",
    "# save timeline_dict to json\n",
    "with open(json_file, 'w') as jsonfile:\n",
    "    json.dump(timeline_dict, jsonfile, indent=4)"
   ]
  }
 ],
 "metadata": {
  "kernelspec": {
   "display_name": "jenny_interface",
   "language": "python",
   "name": "python3"
  },
  "language_info": {
   "codemirror_mode": {
    "name": "ipython",
    "version": 3
   },
   "file_extension": ".py",
   "mimetype": "text/x-python",
   "name": "python",
   "nbconvert_exporter": "python",
   "pygments_lexer": "ipython3",
   "version": "3.12.7"
  }
 },
 "nbformat": 4,
 "nbformat_minor": 2
}
